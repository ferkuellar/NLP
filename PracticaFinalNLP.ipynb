{
  "nbformat": 4,
  "nbformat_minor": 0,
  "metadata": {
    "colab": {
      "provenance": [],
      "toc_visible": true,
      "gpuType": "T4"
    },
    "kernelspec": {
      "name": "python3",
      "display_name": "Python 3"
    },
    "language_info": {
      "name": "python"
    },
    "accelerator": "GPU"
  },
  "cells": [
    {
      "cell_type": "markdown",
      "source": [
        "# Descarga y Exploracion del Corpus"
      ],
      "metadata": {
        "id": "JSFc_--IrmJw"
      }
    },
    {
      "cell_type": "code",
      "source": [
        "import os\n",
        "import json\n",
        "import gzip\n",
        "import pandas as pd\n",
        "from urllib.request import urlopen"
      ],
      "metadata": {
        "id": "oDlQCMsEyPv5"
      },
      "execution_count": 18,
      "outputs": []
    },
    {
      "cell_type": "code",
      "source": [
        "!wget https://datarepo.eng.ucsd.edu/mcauley_group/data/amazon_v2/categoryFilesSmall/Video_Games_5.json.gz"
      ],
      "metadata": {
        "colab": {
          "base_uri": "https://localhost:8080/"
        },
        "id": "-vc7rbZHySCW",
        "outputId": "d50c5bf8-d92b-4f4d-fbe8-7fa0883d8f05"
      },
      "execution_count": 19,
      "outputs": [
        {
          "output_type": "stream",
          "name": "stdout",
          "text": [
            "--2024-03-30 23:19:32--  https://datarepo.eng.ucsd.edu/mcauley_group/data/amazon_v2/categoryFilesSmall/Video_Games_5.json.gz\n",
            "Resolving datarepo.eng.ucsd.edu (datarepo.eng.ucsd.edu)... 132.239.8.30\n",
            "Connecting to datarepo.eng.ucsd.edu (datarepo.eng.ucsd.edu)|132.239.8.30|:443... connected.\n",
            "HTTP request sent, awaiting response... 200 OK\n",
            "Length: 154050105 (147M) [application/x-gzip]\n",
            "Saving to: ‘Video_Games_5.json.gz.1’\n",
            "\n",
            "Video_Games_5.json. 100%[===================>] 146.91M  97.1MB/s    in 1.5s    \n",
            "\n",
            "2024-03-30 23:19:34 (97.1 MB/s) - ‘Video_Games_5.json.gz.1’ saved [154050105/154050105]\n",
            "\n"
          ]
        }
      ]
    },
    {
      "cell_type": "code",
      "source": [
        "data = []\n",
        "file_path = 'Video_Games_5.json.gz'\n",
        "\n",
        "max_products = 1000\n",
        "\n",
        "# Abre el archivo comprimido y lee las líneas\n",
        "with gzip.open(file_path, 'rt', encoding='utf-8') as f:\n",
        "    for i, l in enumerate(f):\n",
        "        if i >= max_products:  # Solo lee hasta max_products\n",
        "            break\n",
        "        # Agrega el producto a la lista de datos\n",
        "        data.append(json.loads(l.strip()))\n",
        "\n",
        "# Total de productos descargados\n",
        "total_productos = pd.DataFrame({'Total de productos descargados': [len(data)]})\n",
        "print(f'Total de productos descargados: {len(data)}')\n",
        "\n",
        "producto_muestra = pd.DataFrame([data[0]])\n",
        "print('Producto de Muestra:')\n",
        "for key, value in data[0].items():\n",
        "    print(f'{key}: {value}')"
      ],
      "metadata": {
        "colab": {
          "base_uri": "https://localhost:8080/"
        },
        "id": "6OC9YE67yfyN",
        "outputId": "e121dfb8-1c37-452f-adf9-bb9cf1160f6f"
      },
      "execution_count": 20,
      "outputs": [
        {
          "output_type": "stream",
          "name": "stdout",
          "text": [
            "Total de productos descargados: 1000\n",
            "Producto de Muestra:\n",
            "overall: 5.0\n",
            "verified: True\n",
            "reviewTime: 10 17, 2015\n",
            "reviewerID: A1HP7NVNPFMA4N\n",
            "asin: 0700026657\n",
            "reviewerName: Ambrosia075\n",
            "reviewText: This game is a bit hard to get the hang of, but when you do it's great.\n",
            "summary: but when you do it's great.\n",
            "unixReviewTime: 1445040000\n"
          ]
        }
      ]
    },
    {
      "cell_type": "code",
      "source": [
        "file_path = 'Video_Games_5.json.gz'\n",
        "data = []\n",
        "\n",
        "# Abrimos el archivo .json.gz y cargamos los datos\n",
        "with gzip.open(file_path, 'r') as f:\n",
        "    for line in f:\n",
        "        # La siguiente línea decodifica cada línea del archivo de bytes a string\n",
        "        # y luego carga el string como un diccionario de Python\n",
        "        data.append(json.loads(line.decode('utf-8')))\n",
        "\n",
        "# Convierte la lista de datos en un DataFrame de Pandas\n",
        "df = pd.DataFrame(data)"
      ],
      "metadata": {
        "id": "soda-tsu2Aov"
      },
      "execution_count": 21,
      "outputs": []
    },
    {
      "cell_type": "code",
      "source": [
        "df.info()"
      ],
      "metadata": {
        "colab": {
          "base_uri": "https://localhost:8080/"
        },
        "id": "orx9-2od2Zni",
        "outputId": "40edff3b-9c52-41d8-aa1c-48c7f3906a18"
      },
      "execution_count": 22,
      "outputs": [
        {
          "output_type": "stream",
          "name": "stdout",
          "text": [
            "<class 'pandas.core.frame.DataFrame'>\n",
            "RangeIndex: 497577 entries, 0 to 497576\n",
            "Data columns (total 12 columns):\n",
            " #   Column          Non-Null Count   Dtype  \n",
            "---  ------          --------------   -----  \n",
            " 0   overall         497577 non-null  float64\n",
            " 1   verified        497577 non-null  bool   \n",
            " 2   reviewTime      497577 non-null  object \n",
            " 3   reviewerID      497577 non-null  object \n",
            " 4   asin            497577 non-null  object \n",
            " 5   reviewerName    497501 non-null  object \n",
            " 6   reviewText      497419 non-null  object \n",
            " 7   summary         497468 non-null  object \n",
            " 8   unixReviewTime  497577 non-null  int64  \n",
            " 9   vote            107793 non-null  object \n",
            " 10  style           289237 non-null  object \n",
            " 11  image           3634 non-null    object \n",
            "dtypes: bool(1), float64(1), int64(1), object(9)\n",
            "memory usage: 42.2+ MB\n"
          ]
        }
      ]
    },
    {
      "cell_type": "code",
      "source": [
        "df.head()"
      ],
      "metadata": {
        "colab": {
          "base_uri": "https://localhost:8080/",
          "height": 504
        },
        "id": "Cqh-r2wW2fj3",
        "outputId": "5539bf45-8c7e-4c8c-b480-eaec2575d0f6"
      },
      "execution_count": 23,
      "outputs": [
        {
          "output_type": "execute_result",
          "data": {
            "text/plain": [
              "   overall  verified   reviewTime      reviewerID        asin  \\\n",
              "0      5.0      True  10 17, 2015  A1HP7NVNPFMA4N  0700026657   \n",
              "1      4.0     False  07 27, 2015  A1JGAP0185YJI6  0700026657   \n",
              "2      3.0      True  02 23, 2015  A1YJWEXHQBWK2B  0700026657   \n",
              "3      2.0      True  02 20, 2015  A2204E1TH211HT  0700026657   \n",
              "4      5.0      True  12 25, 2014  A2RF5B5H74JLPE  0700026657   \n",
              "\n",
              "        reviewerName                                         reviewText  \\\n",
              "0        Ambrosia075  This game is a bit hard to get the hang of, bu...   \n",
              "1             travis  I played it a while but it was alright. The st...   \n",
              "2  Vincent G. Mezera                                           ok game.   \n",
              "3         Grandma KR  found the game a bit too complicated, not what...   \n",
              "4                jon  great game, I love it and have played it since...   \n",
              "\n",
              "                                       summary  unixReviewTime vote style  \\\n",
              "0                  but when you do it's great.      1445040000  NaN   NaN   \n",
              "1  But in spite of that it was fun, I liked it      1437955200  NaN   NaN   \n",
              "2                                  Three Stars      1424649600  NaN   NaN   \n",
              "3                                    Two Stars      1424390400  NaN   NaN   \n",
              "4                               love this game      1419465600  NaN   NaN   \n",
              "\n",
              "  image  \n",
              "0   NaN  \n",
              "1   NaN  \n",
              "2   NaN  \n",
              "3   NaN  \n",
              "4   NaN  "
            ],
            "text/html": [
              "\n",
              "  <div id=\"df-2bb7f21b-d7d1-4cc4-a009-7ede0b40c8db\" class=\"colab-df-container\">\n",
              "    <div>\n",
              "<style scoped>\n",
              "    .dataframe tbody tr th:only-of-type {\n",
              "        vertical-align: middle;\n",
              "    }\n",
              "\n",
              "    .dataframe tbody tr th {\n",
              "        vertical-align: top;\n",
              "    }\n",
              "\n",
              "    .dataframe thead th {\n",
              "        text-align: right;\n",
              "    }\n",
              "</style>\n",
              "<table border=\"1\" class=\"dataframe\">\n",
              "  <thead>\n",
              "    <tr style=\"text-align: right;\">\n",
              "      <th></th>\n",
              "      <th>overall</th>\n",
              "      <th>verified</th>\n",
              "      <th>reviewTime</th>\n",
              "      <th>reviewerID</th>\n",
              "      <th>asin</th>\n",
              "      <th>reviewerName</th>\n",
              "      <th>reviewText</th>\n",
              "      <th>summary</th>\n",
              "      <th>unixReviewTime</th>\n",
              "      <th>vote</th>\n",
              "      <th>style</th>\n",
              "      <th>image</th>\n",
              "    </tr>\n",
              "  </thead>\n",
              "  <tbody>\n",
              "    <tr>\n",
              "      <th>0</th>\n",
              "      <td>5.0</td>\n",
              "      <td>True</td>\n",
              "      <td>10 17, 2015</td>\n",
              "      <td>A1HP7NVNPFMA4N</td>\n",
              "      <td>0700026657</td>\n",
              "      <td>Ambrosia075</td>\n",
              "      <td>This game is a bit hard to get the hang of, bu...</td>\n",
              "      <td>but when you do it's great.</td>\n",
              "      <td>1445040000</td>\n",
              "      <td>NaN</td>\n",
              "      <td>NaN</td>\n",
              "      <td>NaN</td>\n",
              "    </tr>\n",
              "    <tr>\n",
              "      <th>1</th>\n",
              "      <td>4.0</td>\n",
              "      <td>False</td>\n",
              "      <td>07 27, 2015</td>\n",
              "      <td>A1JGAP0185YJI6</td>\n",
              "      <td>0700026657</td>\n",
              "      <td>travis</td>\n",
              "      <td>I played it a while but it was alright. The st...</td>\n",
              "      <td>But in spite of that it was fun, I liked it</td>\n",
              "      <td>1437955200</td>\n",
              "      <td>NaN</td>\n",
              "      <td>NaN</td>\n",
              "      <td>NaN</td>\n",
              "    </tr>\n",
              "    <tr>\n",
              "      <th>2</th>\n",
              "      <td>3.0</td>\n",
              "      <td>True</td>\n",
              "      <td>02 23, 2015</td>\n",
              "      <td>A1YJWEXHQBWK2B</td>\n",
              "      <td>0700026657</td>\n",
              "      <td>Vincent G. Mezera</td>\n",
              "      <td>ok game.</td>\n",
              "      <td>Three Stars</td>\n",
              "      <td>1424649600</td>\n",
              "      <td>NaN</td>\n",
              "      <td>NaN</td>\n",
              "      <td>NaN</td>\n",
              "    </tr>\n",
              "    <tr>\n",
              "      <th>3</th>\n",
              "      <td>2.0</td>\n",
              "      <td>True</td>\n",
              "      <td>02 20, 2015</td>\n",
              "      <td>A2204E1TH211HT</td>\n",
              "      <td>0700026657</td>\n",
              "      <td>Grandma KR</td>\n",
              "      <td>found the game a bit too complicated, not what...</td>\n",
              "      <td>Two Stars</td>\n",
              "      <td>1424390400</td>\n",
              "      <td>NaN</td>\n",
              "      <td>NaN</td>\n",
              "      <td>NaN</td>\n",
              "    </tr>\n",
              "    <tr>\n",
              "      <th>4</th>\n",
              "      <td>5.0</td>\n",
              "      <td>True</td>\n",
              "      <td>12 25, 2014</td>\n",
              "      <td>A2RF5B5H74JLPE</td>\n",
              "      <td>0700026657</td>\n",
              "      <td>jon</td>\n",
              "      <td>great game, I love it and have played it since...</td>\n",
              "      <td>love this game</td>\n",
              "      <td>1419465600</td>\n",
              "      <td>NaN</td>\n",
              "      <td>NaN</td>\n",
              "      <td>NaN</td>\n",
              "    </tr>\n",
              "  </tbody>\n",
              "</table>\n",
              "</div>\n",
              "    <div class=\"colab-df-buttons\">\n",
              "\n",
              "  <div class=\"colab-df-container\">\n",
              "    <button class=\"colab-df-convert\" onclick=\"convertToInteractive('df-2bb7f21b-d7d1-4cc4-a009-7ede0b40c8db')\"\n",
              "            title=\"Convert this dataframe to an interactive table.\"\n",
              "            style=\"display:none;\">\n",
              "\n",
              "  <svg xmlns=\"http://www.w3.org/2000/svg\" height=\"24px\" viewBox=\"0 -960 960 960\">\n",
              "    <path d=\"M120-120v-720h720v720H120Zm60-500h600v-160H180v160Zm220 220h160v-160H400v160Zm0 220h160v-160H400v160ZM180-400h160v-160H180v160Zm440 0h160v-160H620v160ZM180-180h160v-160H180v160Zm440 0h160v-160H620v160Z\"/>\n",
              "  </svg>\n",
              "    </button>\n",
              "\n",
              "  <style>\n",
              "    .colab-df-container {\n",
              "      display:flex;\n",
              "      gap: 12px;\n",
              "    }\n",
              "\n",
              "    .colab-df-convert {\n",
              "      background-color: #E8F0FE;\n",
              "      border: none;\n",
              "      border-radius: 50%;\n",
              "      cursor: pointer;\n",
              "      display: none;\n",
              "      fill: #1967D2;\n",
              "      height: 32px;\n",
              "      padding: 0 0 0 0;\n",
              "      width: 32px;\n",
              "    }\n",
              "\n",
              "    .colab-df-convert:hover {\n",
              "      background-color: #E2EBFA;\n",
              "      box-shadow: 0px 1px 2px rgba(60, 64, 67, 0.3), 0px 1px 3px 1px rgba(60, 64, 67, 0.15);\n",
              "      fill: #174EA6;\n",
              "    }\n",
              "\n",
              "    .colab-df-buttons div {\n",
              "      margin-bottom: 4px;\n",
              "    }\n",
              "\n",
              "    [theme=dark] .colab-df-convert {\n",
              "      background-color: #3B4455;\n",
              "      fill: #D2E3FC;\n",
              "    }\n",
              "\n",
              "    [theme=dark] .colab-df-convert:hover {\n",
              "      background-color: #434B5C;\n",
              "      box-shadow: 0px 1px 3px 1px rgba(0, 0, 0, 0.15);\n",
              "      filter: drop-shadow(0px 1px 2px rgba(0, 0, 0, 0.3));\n",
              "      fill: #FFFFFF;\n",
              "    }\n",
              "  </style>\n",
              "\n",
              "    <script>\n",
              "      const buttonEl =\n",
              "        document.querySelector('#df-2bb7f21b-d7d1-4cc4-a009-7ede0b40c8db button.colab-df-convert');\n",
              "      buttonEl.style.display =\n",
              "        google.colab.kernel.accessAllowed ? 'block' : 'none';\n",
              "\n",
              "      async function convertToInteractive(key) {\n",
              "        const element = document.querySelector('#df-2bb7f21b-d7d1-4cc4-a009-7ede0b40c8db');\n",
              "        const dataTable =\n",
              "          await google.colab.kernel.invokeFunction('convertToInteractive',\n",
              "                                                    [key], {});\n",
              "        if (!dataTable) return;\n",
              "\n",
              "        const docLinkHtml = 'Like what you see? Visit the ' +\n",
              "          '<a target=\"_blank\" href=https://colab.research.google.com/notebooks/data_table.ipynb>data table notebook</a>'\n",
              "          + ' to learn more about interactive tables.';\n",
              "        element.innerHTML = '';\n",
              "        dataTable['output_type'] = 'display_data';\n",
              "        await google.colab.output.renderOutput(dataTable, element);\n",
              "        const docLink = document.createElement('div');\n",
              "        docLink.innerHTML = docLinkHtml;\n",
              "        element.appendChild(docLink);\n",
              "      }\n",
              "    </script>\n",
              "  </div>\n",
              "\n",
              "\n",
              "<div id=\"df-60b0dc3e-4c95-4d52-81df-4e04e9aae010\">\n",
              "  <button class=\"colab-df-quickchart\" onclick=\"quickchart('df-60b0dc3e-4c95-4d52-81df-4e04e9aae010')\"\n",
              "            title=\"Suggest charts\"\n",
              "            style=\"display:none;\">\n",
              "\n",
              "<svg xmlns=\"http://www.w3.org/2000/svg\" height=\"24px\"viewBox=\"0 0 24 24\"\n",
              "     width=\"24px\">\n",
              "    <g>\n",
              "        <path d=\"M19 3H5c-1.1 0-2 .9-2 2v14c0 1.1.9 2 2 2h14c1.1 0 2-.9 2-2V5c0-1.1-.9-2-2-2zM9 17H7v-7h2v7zm4 0h-2V7h2v10zm4 0h-2v-4h2v4z\"/>\n",
              "    </g>\n",
              "</svg>\n",
              "  </button>\n",
              "\n",
              "<style>\n",
              "  .colab-df-quickchart {\n",
              "      --bg-color: #E8F0FE;\n",
              "      --fill-color: #1967D2;\n",
              "      --hover-bg-color: #E2EBFA;\n",
              "      --hover-fill-color: #174EA6;\n",
              "      --disabled-fill-color: #AAA;\n",
              "      --disabled-bg-color: #DDD;\n",
              "  }\n",
              "\n",
              "  [theme=dark] .colab-df-quickchart {\n",
              "      --bg-color: #3B4455;\n",
              "      --fill-color: #D2E3FC;\n",
              "      --hover-bg-color: #434B5C;\n",
              "      --hover-fill-color: #FFFFFF;\n",
              "      --disabled-bg-color: #3B4455;\n",
              "      --disabled-fill-color: #666;\n",
              "  }\n",
              "\n",
              "  .colab-df-quickchart {\n",
              "    background-color: var(--bg-color);\n",
              "    border: none;\n",
              "    border-radius: 50%;\n",
              "    cursor: pointer;\n",
              "    display: none;\n",
              "    fill: var(--fill-color);\n",
              "    height: 32px;\n",
              "    padding: 0;\n",
              "    width: 32px;\n",
              "  }\n",
              "\n",
              "  .colab-df-quickchart:hover {\n",
              "    background-color: var(--hover-bg-color);\n",
              "    box-shadow: 0 1px 2px rgba(60, 64, 67, 0.3), 0 1px 3px 1px rgba(60, 64, 67, 0.15);\n",
              "    fill: var(--button-hover-fill-color);\n",
              "  }\n",
              "\n",
              "  .colab-df-quickchart-complete:disabled,\n",
              "  .colab-df-quickchart-complete:disabled:hover {\n",
              "    background-color: var(--disabled-bg-color);\n",
              "    fill: var(--disabled-fill-color);\n",
              "    box-shadow: none;\n",
              "  }\n",
              "\n",
              "  .colab-df-spinner {\n",
              "    border: 2px solid var(--fill-color);\n",
              "    border-color: transparent;\n",
              "    border-bottom-color: var(--fill-color);\n",
              "    animation:\n",
              "      spin 1s steps(1) infinite;\n",
              "  }\n",
              "\n",
              "  @keyframes spin {\n",
              "    0% {\n",
              "      border-color: transparent;\n",
              "      border-bottom-color: var(--fill-color);\n",
              "      border-left-color: var(--fill-color);\n",
              "    }\n",
              "    20% {\n",
              "      border-color: transparent;\n",
              "      border-left-color: var(--fill-color);\n",
              "      border-top-color: var(--fill-color);\n",
              "    }\n",
              "    30% {\n",
              "      border-color: transparent;\n",
              "      border-left-color: var(--fill-color);\n",
              "      border-top-color: var(--fill-color);\n",
              "      border-right-color: var(--fill-color);\n",
              "    }\n",
              "    40% {\n",
              "      border-color: transparent;\n",
              "      border-right-color: var(--fill-color);\n",
              "      border-top-color: var(--fill-color);\n",
              "    }\n",
              "    60% {\n",
              "      border-color: transparent;\n",
              "      border-right-color: var(--fill-color);\n",
              "    }\n",
              "    80% {\n",
              "      border-color: transparent;\n",
              "      border-right-color: var(--fill-color);\n",
              "      border-bottom-color: var(--fill-color);\n",
              "    }\n",
              "    90% {\n",
              "      border-color: transparent;\n",
              "      border-bottom-color: var(--fill-color);\n",
              "    }\n",
              "  }\n",
              "</style>\n",
              "\n",
              "  <script>\n",
              "    async function quickchart(key) {\n",
              "      const quickchartButtonEl =\n",
              "        document.querySelector('#' + key + ' button');\n",
              "      quickchartButtonEl.disabled = true;  // To prevent multiple clicks.\n",
              "      quickchartButtonEl.classList.add('colab-df-spinner');\n",
              "      try {\n",
              "        const charts = await google.colab.kernel.invokeFunction(\n",
              "            'suggestCharts', [key], {});\n",
              "      } catch (error) {\n",
              "        console.error('Error during call to suggestCharts:', error);\n",
              "      }\n",
              "      quickchartButtonEl.classList.remove('colab-df-spinner');\n",
              "      quickchartButtonEl.classList.add('colab-df-quickchart-complete');\n",
              "    }\n",
              "    (() => {\n",
              "      let quickchartButtonEl =\n",
              "        document.querySelector('#df-60b0dc3e-4c95-4d52-81df-4e04e9aae010 button');\n",
              "      quickchartButtonEl.style.display =\n",
              "        google.colab.kernel.accessAllowed ? 'block' : 'none';\n",
              "    })();\n",
              "  </script>\n",
              "</div>\n",
              "\n",
              "    </div>\n",
              "  </div>\n"
            ],
            "application/vnd.google.colaboratory.intrinsic+json": {
              "type": "dataframe",
              "variable_name": "df"
            }
          },
          "metadata": {},
          "execution_count": 23
        }
      ]
    },
    {
      "cell_type": "code",
      "source": [
        "for col in df.columns:\n",
        "    if df[col].dtype == \"object\":\n",
        "        print(f\"Column '{col}' has unhashable data type.\")"
      ],
      "metadata": {
        "colab": {
          "base_uri": "https://localhost:8080/"
        },
        "id": "E_l_hKZ_2jOi",
        "outputId": "4387326e-169a-43b2-cdb0-6c6e73d652a9"
      },
      "execution_count": 24,
      "outputs": [
        {
          "output_type": "stream",
          "name": "stdout",
          "text": [
            "Column 'reviewTime' has unhashable data type.\n",
            "Column 'reviewerID' has unhashable data type.\n",
            "Column 'asin' has unhashable data type.\n",
            "Column 'reviewerName' has unhashable data type.\n",
            "Column 'reviewText' has unhashable data type.\n",
            "Column 'summary' has unhashable data type.\n",
            "Column 'vote' has unhashable data type.\n",
            "Column 'style' has unhashable data type.\n",
            "Column 'image' has unhashable data type.\n"
          ]
        }
      ]
    },
    {
      "cell_type": "code",
      "source": [
        "# Convierte las columnas que contienen diccionarios o listas a strings\n",
        "# Esto es útil para columnas como 'style' que podrían contener diccionarios.\n",
        "for column in ['style', 'image']:\n",
        "    df[column] = df[column].apply(lambda x: str(x) if isinstance(x, dict) or isinstance(x, list) else x)\n",
        "\n",
        "# Se asegura de que todas las demás columnas mencionadas sean tipo string, si es que se esperan así.\n",
        "for column in ['reviewTime', 'reviewerID', 'asin', 'reviewerName', 'reviewText', 'summary', 'vote']:\n",
        "    df[column] = df[column].astype(str)"
      ],
      "metadata": {
        "id": "iwTHo5zS4thm"
      },
      "execution_count": 25,
      "outputs": []
    },
    {
      "cell_type": "code",
      "source": [
        "# Realiza las operaciones como eliminar duplicados sin problemas\n",
        "df.drop_duplicates(inplace=True)"
      ],
      "metadata": {
        "id": "MkndduWy44xP"
      },
      "execution_count": 26,
      "outputs": []
    },
    {
      "cell_type": "code",
      "source": [
        "# Verifica cuántos valores faltantes hay por columna\n",
        "print(df.isnull().sum())\n",
        "\n",
        "# Elimina filas donde una columna específica, como 'reviewText', es NaN (ajusta según tus necesidades)\n",
        "df.dropna(subset=['reviewText'], inplace=True)\n"
      ],
      "metadata": {
        "colab": {
          "base_uri": "https://localhost:8080/"
        },
        "id": "aaWtLOoT5BKB",
        "outputId": "222baa0b-801a-42ec-f2b0-4fdd76c3e216"
      },
      "execution_count": 27,
      "outputs": [
        {
          "output_type": "stream",
          "name": "stdout",
          "text": [
            "overall                0\n",
            "verified               0\n",
            "reviewTime             0\n",
            "reviewerID             0\n",
            "asin                   0\n",
            "reviewerName           0\n",
            "reviewText             0\n",
            "summary                0\n",
            "unixReviewTime         0\n",
            "vote                   0\n",
            "style             199186\n",
            "image             470718\n",
            "dtype: int64\n"
          ]
        }
      ]
    },
    {
      "cell_type": "code",
      "source": [
        "print(df.info())"
      ],
      "metadata": {
        "colab": {
          "base_uri": "https://localhost:8080/"
        },
        "id": "YsxirgL_5F6x",
        "outputId": "0e2042ee-a9fd-4897-b009-dad5ae775cb1"
      },
      "execution_count": 28,
      "outputs": [
        {
          "output_type": "stream",
          "name": "stdout",
          "text": [
            "<class 'pandas.core.frame.DataFrame'>\n",
            "Int64Index: 474290 entries, 0 to 497576\n",
            "Data columns (total 12 columns):\n",
            " #   Column          Non-Null Count   Dtype  \n",
            "---  ------          --------------   -----  \n",
            " 0   overall         474290 non-null  float64\n",
            " 1   verified        474290 non-null  bool   \n",
            " 2   reviewTime      474290 non-null  object \n",
            " 3   reviewerID      474290 non-null  object \n",
            " 4   asin            474290 non-null  object \n",
            " 5   reviewerName    474290 non-null  object \n",
            " 6   reviewText      474290 non-null  object \n",
            " 7   summary         474290 non-null  object \n",
            " 8   unixReviewTime  474290 non-null  int64  \n",
            " 9   vote            474290 non-null  object \n",
            " 10  style           275104 non-null  object \n",
            " 11  image           3572 non-null    object \n",
            "dtypes: bool(1), float64(1), int64(1), object(9)\n",
            "memory usage: 43.9+ MB\n",
            "None\n"
          ]
        }
      ]
    },
    {
      "cell_type": "code",
      "source": [
        "print(df.describe())"
      ],
      "metadata": {
        "colab": {
          "base_uri": "https://localhost:8080/"
        },
        "id": "DVyDiZhJ5LZ_",
        "outputId": "d93ad429-602e-4b14-d470-27cd0e87098d"
      },
      "execution_count": 29,
      "outputs": [
        {
          "output_type": "stream",
          "name": "stdout",
          "text": [
            "             overall  unixReviewTime\n",
            "count  474290.000000    4.742900e+05\n",
            "mean        4.226615    1.369974e+09\n",
            "std         1.182494    1.235451e+08\n",
            "min         1.000000    9.398592e+08\n",
            "25%         4.000000    1.324944e+09\n",
            "50%         5.000000    1.412726e+09\n",
            "75%         5.000000    1.453680e+09\n",
            "max         5.000000    1.538438e+09\n"
          ]
        }
      ]
    },
    {
      "cell_type": "code",
      "source": [
        "df['overall'].value_counts().sort_index().plot(kind='bar')"
      ],
      "metadata": {
        "colab": {
          "base_uri": "https://localhost:8080/",
          "height": 459
        },
        "id": "63Svfhil5PHq",
        "outputId": "55a325eb-85d4-427c-ff2b-b9e88a778960"
      },
      "execution_count": 30,
      "outputs": [
        {
          "output_type": "execute_result",
          "data": {
            "text/plain": [
              "<Axes: >"
            ]
          },
          "metadata": {},
          "execution_count": 30
        },
        {
          "output_type": "display_data",
          "data": {
            "text/plain": [
              "<Figure size 640x480 with 1 Axes>"
            ],
            "image/png": "[encoded data removed]"
          },
          "metadata": {}
        }
      ]
    },
    {
      "cell_type": "code",
      "source": [
        "print(df['reviewerID'].value_counts().head())"
      ],
      "metadata": {
        "colab": {
          "base_uri": "https://localhost:8080/"
        },
        "id": "zMI_Umyq5TST",
        "outputId": "710730bd-e91c-45b0-8408-469772edabc6"
      },
      "execution_count": 31,
      "outputs": [
        {
          "output_type": "stream",
          "name": "stdout",
          "text": [
            "A3V6Z4RCDGRC44    783\n",
            "AJKWF4W7QD4NS     692\n",
            "A3W4D8XOGLWUN5    502\n",
            "A2TCG2HV1VJP6V    441\n",
            "A2QHS1ZCIQOL7E    428\n",
            "Name: reviewerID, dtype: int64\n"
          ]
        }
      ]
    },
    {
      "cell_type": "code",
      "source": [
        "import pandas as pd\n",
        "from collections import Counter\n",
        "import re\n",
        "\n",
        "# Combina todo el texto de las reseñas y asegura que todo sea string\n",
        "text = ' '.join(df['reviewText'].astype(str).dropna())\n",
        "# Encuentra todas las palabras (asumiendo que 'words' es una lista de palabras en minúsculas)\n",
        "words = re.findall(r'\\w+', text.lower())\n",
        "# Crea un contador con la frecuencia de cada palabra\n",
        "\n",
        "word_counts = Counter(words)\n",
        "# Aqui convertimos las 50 palabras más comunes en un DataFrame de Pandas para una visualización más ordenada\n",
        "most_common_words = pd.DataFrame(word_counts.most_common(50), columns=['Word', 'Count'])\n",
        "\n",
        "# Muestra la tabla de las 50 palabras más comunes\n",
        "print(most_common_words)\n",
        "\n"
      ],
      "metadata": {
        "colab": {
          "base_uri": "https://localhost:8080/"
        },
        "id": "FjzIpvPx5Wf5",
        "outputId": "1de6df49-5249-4dc6-fb17-ce8d8d4dc9c2"
      },
      "execution_count": 32,
      "outputs": [
        {
          "output_type": "stream",
          "name": "stdout",
          "text": [
            "     Word    Count\n",
            "0     the  3164106\n",
            "1     and  1601891\n",
            "2      to  1500890\n",
            "3       a  1465652\n",
            "4       i  1262846\n",
            "5      it  1170618\n",
            "6      of  1106651\n",
            "7     you  1076752\n",
            "8      is  1020251\n",
            "9    game   956854\n",
            "10   this   776295\n",
            "11     in   688251\n",
            "12   that   641731\n",
            "13    for   588638\n",
            "14    but   467220\n",
            "15   with   448393\n",
            "16    are   446112\n",
            "17      s   432015\n",
            "18     on   414786\n",
            "19      t   394857\n",
            "20   have   388163\n",
            "21     as   380792\n",
            "22    not   322287\n",
            "23    can   306730\n",
            "24    was   292985\n",
            "25   like   273347\n",
            "26     be   270084\n",
            "27     if   264962\n",
            "28     my   262989\n",
            "29     so   255906\n",
            "30    all   247396\n",
            "31   your   247035\n",
            "32    one   242771\n",
            "33     or   238920\n",
            "34  games   234486\n",
            "35  there   230722\n",
            "36   just   220041\n",
            "37   they   216485\n",
            "38    get   198530\n",
            "39   more   196369\n",
            "40     at   194232\n",
            "41   play   192984\n",
            "42  great   186501\n",
            "43   from   184057\n",
            "44   good   178726\n",
            "45   will   171900\n",
            "46    out   171595\n",
            "47     up   171317\n",
            "48   very   168074\n",
            "49   some   161509\n"
          ]
        }
      ]
    },
    {
      "cell_type": "code",
      "source": [
        "!pip install spacy\n",
        "!python -m spacy download en_core_web_sm"
      ],
      "metadata": {
        "colab": {
          "base_uri": "https://localhost:8080/"
        },
        "id": "p8YNDgh6FBA7",
        "outputId": "762d5a4d-dc15-462b-ff97-b86bcf7a61f3"
      },
      "execution_count": 33,
      "outputs": [
        {
          "output_type": "stream",
          "name": "stdout",
          "text": [
            "Requirement already satisfied: spacy in /usr/local/lib/python3.10/dist-packages (3.7.4)\n",
            "Requirement already satisfied: spacy-legacy<3.1.0,>=3.0.11 in /usr/local/lib/python3.10/dist-packages (from spacy) (3.0.12)\n",
            "Requirement already satisfied: spacy-loggers<2.0.0,>=1.0.0 in /usr/local/lib/python3.10/dist-packages (from spacy) (1.0.5)\n",
            "Requirement already satisfied: murmurhash<1.1.0,>=0.28.0 in /usr/local/lib/python3.10/dist-packages (from spacy) (1.0.10)\n",
            "Requirement already satisfied: cymem<2.1.0,>=2.0.2 in /usr/local/lib/python3.10/dist-packages (from spacy) (2.0.8)\n",
            "Requirement already satisfied: preshed<3.1.0,>=3.0.2 in /usr/local/lib/python3.10/dist-packages (from spacy) (3.0.9)\n",
            "Requirement already satisfied: thinc<8.3.0,>=8.2.2 in /usr/local/lib/python3.10/dist-packages (from spacy) (8.2.3)\n",
            "Requirement already satisfied: wasabi<1.2.0,>=0.9.1 in /usr/local/lib/python3.10/dist-packages (from spacy) (1.1.2)\n",
            "Requirement already satisfied: srsly<3.0.0,>=2.4.3 in /usr/local/lib/python3.10/dist-packages (from spacy) (2.4.8)\n",
            "Requirement already satisfied: catalogue<2.1.0,>=2.0.6 in /usr/local/lib/python3.10/dist-packages (from spacy) (2.0.10)\n",
            "Requirement already satisfied: weasel<0.4.0,>=0.1.0 in /usr/local/lib/python3.10/dist-packages (from spacy) (0.3.4)\n",
            "Requirement already satisfied: typer<0.10.0,>=0.3.0 in /usr/local/lib/python3.10/dist-packages (from spacy) (0.9.4)\n",
            "Requirement already satisfied: smart-open<7.0.0,>=5.2.1 in /usr/local/lib/python3.10/dist-packages (from spacy) (6.4.0)\n",
            "Requirement already satisfied: tqdm<5.0.0,>=4.38.0 in /usr/local/lib/python3.10/dist-packages (from spacy) (4.66.2)\n",
            "Requirement already satisfied: requests<3.0.0,>=2.13.0 in /usr/local/lib/python3.10/dist-packages (from spacy) (2.31.0)\n",
            "Requirement already satisfied: pydantic!=1.8,!=1.8.1,<3.0.0,>=1.7.4 in /usr/local/lib/python3.10/dist-packages (from spacy) (2.6.4)\n",
            "Requirement already satisfied: jinja2 in /usr/local/lib/python3.10/dist-packages (from spacy) (3.1.3)\n",
            "Requirement already satisfied: setuptools in /usr/local/lib/python3.10/dist-packages (from spacy) (67.7.2)\n",
            "Requirement already satisfied: packaging>=20.0 in /usr/local/lib/python3.10/dist-packages (from spacy) (24.0)\n",
            "Requirement already satisfied: langcodes<4.0.0,>=3.2.0 in /usr/local/lib/python3.10/dist-packages (from spacy) (3.3.0)\n",
            "Requirement already satisfied: numpy>=1.19.0 in /usr/local/lib/python3.10/dist-packages (from spacy) (1.25.2)\n",
            "Requirement already satisfied: annotated-types>=0.4.0 in /usr/local/lib/python3.10/dist-packages (from pydantic!=1.8,!=1.8.1,<3.0.0,>=1.7.4->spacy) (0.6.0)\n",
            "Requirement already satisfied: pydantic-core==2.16.3 in /usr/local/lib/python3.10/dist-packages (from pydantic!=1.8,!=1.8.1,<3.0.0,>=1.7.4->spacy) (2.16.3)\n",
            "Requirement already satisfied: typing-extensions>=4.6.1 in /usr/local/lib/python3.10/dist-packages (from pydantic!=1.8,!=1.8.1,<3.0.0,>=1.7.4->spacy) (4.10.0)\n",
            "Requirement already satisfied: charset-normalizer<4,>=2 in /usr/local/lib/python3.10/dist-packages (from requests<3.0.0,>=2.13.0->spacy) (3.3.2)\n",
            "Requirement already satisfied: idna<4,>=2.5 in /usr/local/lib/python3.10/dist-packages (from requests<3.0.0,>=2.13.0->spacy) (3.6)\n",
            "Requirement already satisfied: urllib3<3,>=1.21.1 in /usr/local/lib/python3.10/dist-packages (from requests<3.0.0,>=2.13.0->spacy) (2.0.7)\n",
            "Requirement already satisfied: certifi>=2017.4.17 in /usr/local/lib/python3.10/dist-packages (from requests<3.0.0,>=2.13.0->spacy) (2024.2.2)\n",
            "Requirement already satisfied: blis<0.8.0,>=0.7.8 in /usr/local/lib/python3.10/dist-packages (from thinc<8.3.0,>=8.2.2->spacy) (0.7.11)\n",
            "Requirement already satisfied: confection<1.0.0,>=0.0.1 in /usr/local/lib/python3.10/dist-packages (from thinc<8.3.0,>=8.2.2->spacy) (0.1.4)\n",
            "Requirement already satisfied: click<9.0.0,>=7.1.1 in /usr/local/lib/python3.10/dist-packages (from typer<0.10.0,>=0.3.0->spacy) (8.1.7)\n",
            "Requirement already satisfied: cloudpathlib<0.17.0,>=0.7.0 in /usr/local/lib/python3.10/dist-packages (from weasel<0.4.0,>=0.1.0->spacy) (0.16.0)\n",
            "Requirement already satisfied: MarkupSafe>=2.0 in /usr/local/lib/python3.10/dist-packages (from jinja2->spacy) (2.1.5)\n",
            "Collecting en-core-web-sm==3.7.1\n",
            "  Downloading https://github.com/explosion/spacy-models/releases/download/en_core_web_sm-3.7.1/en_core_web_sm-3.7.1-py3-none-any.whl (12.8 MB)\n",
            "\u001b[2K     \u001b[90m━━━━━━━━━━━━━━━━━━━━━━━━━━━━━━━━━━━━━━━━\u001b[0m \u001b[32m12.8/12.8 MB\u001b[0m \u001b[31m38.8 MB/s\u001b[0m eta \u001b[36m0:00:00\u001b[0m\n",
            "\u001b[?25hRequirement already satisfied: spacy<3.8.0,>=3.7.2 in /usr/local/lib/python3.10/dist-packages (from en-core-web-sm==3.7.1) (3.7.4)\n",
            "Requirement already satisfied: spacy-legacy<3.1.0,>=3.0.11 in /usr/local/lib/python3.10/dist-packages (from spacy<3.8.0,>=3.7.2->en-core-web-sm==3.7.1) (3.0.12)\n",
            "Requirement already satisfied: spacy-loggers<2.0.0,>=1.0.0 in /usr/local/lib/python3.10/dist-packages (from spacy<3.8.0,>=3.7.2->en-core-web-sm==3.7.1) (1.0.5)\n",
            "Requirement already satisfied: murmurhash<1.1.0,>=0.28.0 in /usr/local/lib/python3.10/dist-packages (from spacy<3.8.0,>=3.7.2->en-core-web-sm==3.7.1) (1.0.10)\n",
            "Requirement already satisfied: cymem<2.1.0,>=2.0.2 in /usr/local/lib/python3.10/dist-packages (from spacy<3.8.0,>=3.7.2->en-core-web-sm==3.7.1) (2.0.8)\n",
            "Requirement already satisfied: preshed<3.1.0,>=3.0.2 in /usr/local/lib/python3.10/dist-packages (from spacy<3.8.0,>=3.7.2->en-core-web-sm==3.7.1) (3.0.9)\n",
            "Requirement already satisfied: thinc<8.3.0,>=8.2.2 in /usr/local/lib/python3.10/dist-packages (from spacy<3.8.0,>=3.7.2->en-core-web-sm==3.7.1) (8.2.3)\n",
            "Requirement already satisfied: wasabi<1.2.0,>=0.9.1 in /usr/local/lib/python3.10/dist-packages (from spacy<3.8.0,>=3.7.2->en-core-web-sm==3.7.1) (1.1.2)\n",
            "Requirement already satisfied: srsly<3.0.0,>=2.4.3 in /usr/local/lib/python3.10/dist-packages (from spacy<3.8.0,>=3.7.2->en-core-web-sm==3.7.1) (2.4.8)\n",
            "Requirement already satisfied: catalogue<2.1.0,>=2.0.6 in /usr/local/lib/python3.10/dist-packages (from spacy<3.8.0,>=3.7.2->en-core-web-sm==3.7.1) (2.0.10)\n",
            "Requirement already satisfied: weasel<0.4.0,>=0.1.0 in /usr/local/lib/python3.10/dist-packages (from spacy<3.8.0,>=3.7.2->en-core-web-sm==3.7.1) (0.3.4)\n",
            "Requirement already satisfied: typer<0.10.0,>=0.3.0 in /usr/local/lib/python3.10/dist-packages (from spacy<3.8.0,>=3.7.2->en-core-web-sm==3.7.1) (0.9.4)\n",
            "Requirement already satisfied: smart-open<7.0.0,>=5.2.1 in /usr/local/lib/python3.10/dist-packages (from spacy<3.8.0,>=3.7.2->en-core-web-sm==3.7.1) (6.4.0)\n",
            "Requirement already satisfied: tqdm<5.0.0,>=4.38.0 in /usr/local/lib/python3.10/dist-packages (from spacy<3.8.0,>=3.7.2->en-core-web-sm==3.7.1) (4.66.2)\n",
            "Requirement already satisfied: requests<3.0.0,>=2.13.0 in /usr/local/lib/python3.10/dist-packages (from spacy<3.8.0,>=3.7.2->en-core-web-sm==3.7.1) (2.31.0)\n",
            "Requirement already satisfied: pydantic!=1.8,!=1.8.1,<3.0.0,>=1.7.4 in /usr/local/lib/python3.10/dist-packages (from spacy<3.8.0,>=3.7.2->en-core-web-sm==3.7.1) (2.6.4)\n",
            "Requirement already satisfied: jinja2 in /usr/local/lib/python3.10/dist-packages (from spacy<3.8.0,>=3.7.2->en-core-web-sm==3.7.1) (3.1.3)\n",
            "Requirement already satisfied: setuptools in /usr/local/lib/python3.10/dist-packages (from spacy<3.8.0,>=3.7.2->en-core-web-sm==3.7.1) (67.7.2)\n",
            "Requirement already satisfied: packaging>=20.0 in /usr/local/lib/python3.10/dist-packages (from spacy<3.8.0,>=3.7.2->en-core-web-sm==3.7.1) (24.0)\n",
            "Requirement already satisfied: langcodes<4.0.0,>=3.2.0 in /usr/local/lib/python3.10/dist-packages (from spacy<3.8.0,>=3.7.2->en-core-web-sm==3.7.1) (3.3.0)\n",
            "Requirement already satisfied: numpy>=1.19.0 in /usr/local/lib/python3.10/dist-packages (from spacy<3.8.0,>=3.7.2->en-core-web-sm==3.7.1) (1.25.2)\n",
            "Requirement already satisfied: annotated-types>=0.4.0 in /usr/local/lib/python3.10/dist-packages (from pydantic!=1.8,!=1.8.1,<3.0.0,>=1.7.4->spacy<3.8.0,>=3.7.2->en-core-web-sm==3.7.1) (0.6.0)\n",
            "Requirement already satisfied: pydantic-core==2.16.3 in /usr/local/lib/python3.10/dist-packages (from pydantic!=1.8,!=1.8.1,<3.0.0,>=1.7.4->spacy<3.8.0,>=3.7.2->en-core-web-sm==3.7.1) (2.16.3)\n",
            "Requirement already satisfied: typing-extensions>=4.6.1 in /usr/local/lib/python3.10/dist-packages (from pydantic!=1.8,!=1.8.1,<3.0.0,>=1.7.4->spacy<3.8.0,>=3.7.2->en-core-web-sm==3.7.1) (4.10.0)\n",
            "Requirement already satisfied: charset-normalizer<4,>=2 in /usr/local/lib/python3.10/dist-packages (from requests<3.0.0,>=2.13.0->spacy<3.8.0,>=3.7.2->en-core-web-sm==3.7.1) (3.3.2)\n",
            "Requirement already satisfied: idna<4,>=2.5 in /usr/local/lib/python3.10/dist-packages (from requests<3.0.0,>=2.13.0->spacy<3.8.0,>=3.7.2->en-core-web-sm==3.7.1) (3.6)\n",
            "Requirement already satisfied: urllib3<3,>=1.21.1 in /usr/local/lib/python3.10/dist-packages (from requests<3.0.0,>=2.13.0->spacy<3.8.0,>=3.7.2->en-core-web-sm==3.7.1) (2.0.7)\n",
            "Requirement already satisfied: certifi>=2017.4.17 in /usr/local/lib/python3.10/dist-packages (from requests<3.0.0,>=2.13.0->spacy<3.8.0,>=3.7.2->en-core-web-sm==3.7.1) (2024.2.2)\n",
            "Requirement already satisfied: blis<0.8.0,>=0.7.8 in /usr/local/lib/python3.10/dist-packages (from thinc<8.3.0,>=8.2.2->spacy<3.8.0,>=3.7.2->en-core-web-sm==3.7.1) (0.7.11)\n",
            "Requirement already satisfied: confection<1.0.0,>=0.0.1 in /usr/local/lib/python3.10/dist-packages (from thinc<8.3.0,>=8.2.2->spacy<3.8.0,>=3.7.2->en-core-web-sm==3.7.1) (0.1.4)\n",
            "Requirement already satisfied: click<9.0.0,>=7.1.1 in /usr/local/lib/python3.10/dist-packages (from typer<0.10.0,>=0.3.0->spacy<3.8.0,>=3.7.2->en-core-web-sm==3.7.1) (8.1.7)\n",
            "Requirement already satisfied: cloudpathlib<0.17.0,>=0.7.0 in /usr/local/lib/python3.10/dist-packages (from weasel<0.4.0,>=0.1.0->spacy<3.8.0,>=3.7.2->en-core-web-sm==3.7.1) (0.16.0)\n",
            "Requirement already satisfied: MarkupSafe>=2.0 in /usr/local/lib/python3.10/dist-packages (from jinja2->spacy<3.8.0,>=3.7.2->en-core-web-sm==3.7.1) (2.1.5)\n",
            "\u001b[38;5;2m✔ Download and installation successful\u001b[0m\n",
            "You can now load the package via spacy.load('en_core_web_sm')\n",
            "\u001b[38;5;3m⚠ Restart to reload dependencies\u001b[0m\n",
            "If you are in a Jupyter or Colab notebook, you may need to restart Python in\n",
            "order to load all the package's dependencies. You can do this by selecting the\n",
            "'Restart kernel' or 'Restart runtime' option.\n"
          ]
        }
      ]
    },
    {
      "cell_type": "code",
      "source": [
        "import spacy\n",
        "\n",
        "# Cargar el modelo de spaCy para el idioma inglés\n",
        "nlp = spacy.load('en_core_web_sm')\n",
        "\n",
        "# Es la columna que contiene el texto de las reseñas\n",
        "# Y aquí procesamos las reseñas y lematizamos cada token.\n",
        "df['lemmatized'] = df['reviewText'].astype(str).apply(lambda text: ' '.join([token.lemma_ for token in nlp(text)]))\n",
        "\n",
        "# Ahora puedes revisar el resultado\n",
        "print(df[['reviewText', 'lemmatized']].head())\n"
      ],
      "metadata": {
        "id": "UkDGbZRJFCoK"
      },
      "execution_count": null,
      "outputs": []
    },
    {
      "cell_type": "code",
      "source": [
        "import re\n",
        "from collections import Counter\n",
        "from nltk.util import ngrams\n",
        "import pandas as pd\n",
        "\n",
        "# Configuración para NLTK\n",
        "import nltk\n",
        "nltk.download('punkt')\n",
        "from nltk.tokenize import word_tokenize\n",
        "\n",
        "# Concatena todo el texto de las reseñas en una única cadena de texto\n",
        "all_text = ' '.join(df['reviewText'].dropna()).lower()  # Se convierte todo a minúsculas para la consistencia\n",
        "\n",
        "# Tokeniza el texto en palabras\n",
        "words = word_tokenize(all_text)\n",
        "\n",
        "# Define el número de n para tus n-grams\n",
        "n = 3  # Cambia esto a 3 para trigrams, 4 para four-grams, etc.\n",
        "\n",
        "# Genera los n-grams de todo el texto\n",
        "all_ngrams = ngrams(words, n)\n",
        "\n",
        "# Cuenta la frecuencia de cada n-gram\n",
        "ngram_freq = Counter(all_ngrams)\n",
        "\n",
        "# Selecciona los 10 n-grams más comunes\n",
        "most_common_ngrams = ngram_freq.most_common(10)\n",
        "\n",
        "# Convierte los n-grams más comunes en un DataFrame para una visualización más ordenada\n",
        "most_common_ngrams_df = pd.DataFrame(most_common_ngrams, columns=['N-gram', 'Count'])\n",
        "\n",
        "# Muestra la tabla de n-grams más comunes\n",
        "print(most_common_ngrams_df)\n"
      ],
      "metadata": {
        "id": "UaSzz1TU6tbH"
      },
      "execution_count": null,
      "outputs": []
    },
    {
      "cell_type": "code",
      "source": [
        "# Instala la biblioteca wordcloud si aún no lo has hecho\n",
        "!pip install wordcloud"
      ],
      "metadata": {
        "id": "HTS6Na-b-LAT"
      },
      "execution_count": null,
      "outputs": []
    },
    {
      "cell_type": "code",
      "source": [
        "import matplotlib.pyplot as plt\n",
        "from wordcloud import WordCloud\n",
        "from nltk.tokenize import word_tokenize\n",
        "import nltk\n",
        "\n",
        "# Configuración para NLTK\n",
        "nltk.download('punkt')\n",
        "\n",
        "# Asumiendo que 'all_text' contiene todo el texto de tus reseñas\n",
        "words = word_tokenize(all_text.lower())  # Convertir a minúsculas para consistencia\n",
        "\n",
        "# Calcula la frecuencia de cada palabra\n",
        "word_freq = Counter(words)\n",
        "\n",
        "# Selecciona las 50 palabras más frecuentes\n",
        "top_50_words = dict(word_freq.most_common(50))\n",
        "\n",
        "# Crea una nube de palabras usando solo las 50 palabras más frecuentes\n",
        "wordcloud = WordCloud(width=800, height=800, background_color='white').generate_from_frequencies(top_50_words)\n",
        "\n",
        "# Mostrar la nube de palabras\n",
        "plt.figure(figsize=(8, 8), facecolor=None)\n",
        "plt.imshow(wordcloud)\n",
        "plt.axis(\"off\")\n",
        "plt.tight_layout(pad=0)\n",
        "\n",
        "plt.show()\n",
        "\n"
      ],
      "metadata": {
        "id": "AoTPhBtU9F9U"
      },
      "execution_count": null,
      "outputs": []
    },
    {
      "cell_type": "code",
      "source": [
        "import gensim\n",
        "import numpy as np\n",
        "from sklearn.manifold import TSNE\n",
        "import matplotlib.pyplot as plt\n",
        "\n",
        "# Palabras seleccionadas para la visualización\n",
        "selected_words = ['game', 'controller', 'graphics', 'sound', 'level']\n",
        "\n",
        "# Obtener las palabras más similares y sus vectores\n",
        "words = []\n",
        "word_vectors = []\n",
        "\n",
        "for word in selected_words:\n",
        "    # Añadir la palabra misma\n",
        "    words.append(word)\n",
        "    word_vectors.append(word2vec_model.wv[word])\n",
        "    # Añadir las top 10 palabras más similares\n",
        "    similar_words = word2vec_model.wv.most_similar(word, topn=10)\n",
        "    for similar_word, _ in similar_words:\n",
        "        words.append(similar_word)\n",
        "        word_vectors.append(word2vec_model.wv[similar_word])\n",
        "\n",
        "# Reducir dimensiones a 2D usando t-SNE\n",
        "tsne = TSNE(n_components=2, random_state=0)\n",
        "word_vectors_2d = tsne.fit_transform(word_vectors)\n",
        "\n",
        "# Crear una visualización de las palabras y sus vectores en 2D\n",
        "plt.figure(figsize=(16, 16))\n",
        "for point, word in zip(word_vectors_2d, words):\n",
        "    plt.scatter(point[0], point[1], c='red' if word in selected_words else 'blue')\n",
        "    plt.text(point[0] + 0.05, point[1] + 0.05, word, fontsize=12)\n",
        "plt.show()\n"
      ],
      "metadata": {
        "id": "GC0oxQhw_3KZ"
      },
      "execution_count": null,
      "outputs": []
    },
    {
      "cell_type": "markdown",
      "source": [
        "# 2. Etapa de preprocesado de texto"
      ],
      "metadata": {
        "id": "iCh9AcjjaGxI"
      }
    },
    {
      "cell_type": "code",
      "source": [
        "import re\n",
        "from nltk.corpus import stopwords\n",
        "from nltk.stem import SnowballStemmer\n",
        "from nltk.tokenize import word_tokenize\n",
        "from string import punctuation\n",
        "\n",
        "# Carga de stopwords en inglés y eliminación de las especificadas\n",
        "stop_words = set(stopwords.words('english')) - {'the', 'and', 'to', 'a', 'i', 'it', 'of', 'you', 'is', 'are', 'on', 't', 'as', 'be', 'if', 'my', 'so', 'all'}\n",
        "\n",
        "# Inicializar el Stemmer en inglés\n",
        "stemmer = SnowballStemmer('english')\n",
        "\n",
        "def preprocesar(texto):\n",
        "    # Convierte a minúsculas\n",
        "    texto = texto.lower()\n",
        "    # Elimina caracteres especiales y números\n",
        "    texto = re.sub(r'\\W|\\d', ' ', texto)\n",
        "    # Tokenización\n",
        "    tokens = word_tokenize(texto)\n",
        "    # Eliminación de stopwords personalizada y puntuación + Stemming\n",
        "    tokens = [stemmer.stem(word) for word in tokens if word not in stop_words and word not in punctuation]\n",
        "    # Reconstruye el texto procesado\n",
        "    texto_procesado = ' '.join(tokens)\n",
        "    return texto_procesado"
      ],
      "metadata": {
        "id": "Yw19QwidaLw2"
      },
      "execution_count": null,
      "outputs": []
    },
    {
      "cell_type": "markdown",
      "source": [
        "# 3. Etapa de entrenamiento y testeo de un modelo de análisis de sentimiento"
      ],
      "metadata": {
        "id": "VTrajNQKgQ7p"
      }
    },
    {
      "cell_type": "markdown",
      "source": [
        "### Preparacion de Datos"
      ],
      "metadata": {
        "id": "MRqPXfT7gYgQ"
      }
    },
    {
      "cell_type": "code",
      "source": [
        "from sklearn.feature_extraction.text import CountVectorizer\n",
        "from sklearn.model_selection import train_test_split\n",
        "\n",
        "X_preprocesados = df['reviewText'].values\n",
        "y_etiquetas = df['sentiment'].map({'negative': 0, 'positive': 1}).values\n",
        "\n",
        "# Inicialización del CountVectorizer\n",
        "vectorizer = CountVectorizer()\n",
        "\n",
        "# Ajuste y transformación de los datos\n",
        "X_vectorizados = vectorizer.fit_transform(X_preprocesados)\n",
        "\n",
        "# División en entrenamiento y prueba\n",
        "X_train, X_test, y_train, y_test = train_test_split(X_vectorizados, y_etiquetas, test_size=0.2, random_state=42)\n"
      ],
      "metadata": {
        "id": "AzRzFkpQgU7o"
      },
      "execution_count": null,
      "outputs": []
    },
    {
      "cell_type": "markdown",
      "source": [
        "### Modelo de Clasificacion (Regresion Logistica)"
      ],
      "metadata": {
        "id": "_-27ho96geC_"
      }
    },
    {
      "cell_type": "code",
      "source": [
        "from sklearn.linear_model import LogisticRegression\n",
        "from sklearn.metrics import classification_report\n",
        "\n",
        "# Inicializar y entrenar el modelo de Regresión Logística\n",
        "log_reg = LogisticRegression(random_state=42)\n",
        "log_reg.fit(X_train, y_train)\n",
        "\n",
        "# Predicciones y evaluación\n",
        "y_pred_log_reg = log_reg.predict(X_test)\n",
        "print(\"Regresión Logística - Reporte de Clasificación:\\n\", classification_report(y_test, y_pred_log_reg))\n"
      ],
      "metadata": {
        "id": "fSG9M_engmDe"
      },
      "execution_count": null,
      "outputs": []
    },
    {
      "cell_type": "markdown",
      "source": [
        "### Arbol de Desicion."
      ],
      "metadata": {
        "id": "pXIT5Popgo4d"
      }
    },
    {
      "cell_type": "code",
      "source": [
        "from sklearn.tree import DecisionTreeClassifier\n",
        "\n",
        "# Inicializar y entrenar el modelo de Árbol de Decisión\n",
        "tree = DecisionTreeClassifier(random_state=42)\n",
        "tree.fit(X_train, y_train)\n",
        "\n",
        "# Predicciones y evaluación\n",
        "y_pred_tree = tree.predict(X_test)\n",
        "print(\"Árbol de Decisión - Reporte de Clasificación:\\n\", classification_report(y_test, y_pred_tree))\n"
      ],
      "metadata": {
        "id": "hG9aoix1gzd0"
      },
      "execution_count": null,
      "outputs": []
    },
    {
      "cell_type": "markdown",
      "source": [
        "# 4. Reporte de métricas y conclusiones"
      ],
      "metadata": {
        "id": "gQPWm7zrmWII"
      }
    },
    {
      "cell_type": "code",
      "source": [
        "from sklearn.metrics import accuracy_score, precision_recall_fscore_support, classification_report\n",
        "import matplotlib.pyplot as plt\n",
        "import seaborn as sns"
      ],
      "metadata": {
        "id": "ySbBJ4XmmX92"
      },
      "execution_count": null,
      "outputs": []
    },
    {
      "cell_type": "code",
      "source": [
        "print(classification_report(y_test, y_pred))"
      ],
      "metadata": {
        "id": "45xK3fUasUJC"
      },
      "execution_count": null,
      "outputs": []
    },
    {
      "cell_type": "code",
      "source": [
        "# Calcula la matriz de confusión\n",
        "matriz_conf = confusion_matrix(y_test, y_pred)\n",
        "\n",
        "# Visualización de la matriz de confusión con Seaborn\n",
        "plt.figure(figsize=(8, 6))\n",
        "sns.heatmap(matriz_conf, annot=True, fmt=\"d\", cmap=\"Blues\", xticklabels=[\"Negativo\", \"Positivo\"], yticklabels=[\"Negativo\", \"Positivo\"])\n",
        "plt.ylabel('Etiqueta Verdadera')\n",
        "plt.xlabel('Etiqueta Predicha')\n",
        "plt.title(\"Matriz de Confusión\")\n",
        "plt.show()\n"
      ],
      "metadata": {
        "id": "9DU1GGhQs90y"
      },
      "execution_count": null,
      "outputs": []
    },
    {
      "cell_type": "markdown",
      "source": [
        "## Análisis de las Métricas"
      ],
      "metadata": {
        "id": "lzfflBMKtC8q"
      }
    },
    {
      "cell_type": "markdown",
      "source": [
        "**Precisión:** Observa la precisión para la clase positiva en el reporte de clasificación. Si es alta, significa que tu modelo es muy bueno prediciendo las instancias positivas correctamente entre todas las instancias que predijo como positivas.\n",
        "\n",
        "**Recall de cada clase:** El recall te indica qué tan bueno es el modelo identificando todas las instancias positivas (y negativas, para ese caso). Un recall alto para la clase positiva significa que el modelo es bueno capturando la mayoría de las instancias positivas.\n",
        "\n",
        "**F1-Score:** Este es un buen indicador de la precisión y el recall balanceados. Si tu modelo tiene un f1-score alto para ambas clases, está haciendo un buen trabajo balanceando entre identificar correctamente las instancias de cada clase y minimizar las falsas alarmas.\n",
        "\n",
        "**Matriz de Confusión:** Esta visualización te permite ver no solo los aciertos (verdaderos positivos y verdaderos negativos) sino también los errores (falsos positivos y falsos negativos) de tu modelo. Los verdaderos positivos y verdaderos negativos están en la diagonal de la matriz, mientras que los falsos positivos y falsos negativos se encuentran fuera de esta. Un modelo ideal tiene números altos en la diagonal y bajos fuera de ella."
      ],
      "metadata": {
        "id": "WOVhoonFs_g1"
      }
    },
    {
      "cell_type": "markdown",
      "source": [
        "# Conclusion"
      ],
      "metadata": {
        "id": "qO1qzogXsYsw"
      }
    },
    {
      "cell_type": "markdown",
      "source": [
        " Basado en las métricas evaluadas, el modelo de análisis de sentimientos muestra una sólida precisión general, lo que indica una capacidad competente para clasificar correctamente las reseñas en positivas y negativas. Sin embargo, el recall para la clase positiva sugiere que el modelo puede mejorar en la identificación de todas las instancias positivas. Esto podría abordarse considerando un preprocesamiento más refinado de los datos o explorando modelos más complejos como redes neuronales. Las limitaciones actuales incluyen una tendencia a sobreajustar en el conjunto de datos de entrenamiento, lo que sugiere la necesidad de una mayor regularización o la incorporación de más datos de entrenamiento diversificados. Las futuras iteraciones del proyecto se beneficiarían de experimentar con técnicas avanzadas de vectorización y balanceo de clases."
      ],
      "metadata": {
        "id": "tJAxq8ZAsbne"
      }
    }
  ]
}